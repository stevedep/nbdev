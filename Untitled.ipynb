{
 "cells": [
  {
   "cell_type": "code",
   "execution_count": 1,
   "id": "6d82554a",
   "metadata": {},
   "outputs": [],
   "source": [
    "import os\n",
    "import errno\n",
    "from distutils.errors import DistutilsFileError, DistutilsInternalError\n",
    "from distutils import log"
   ]
  },
  {
   "cell_type": "code",
   "execution_count": 6,
   "id": "28f9fc9d",
   "metadata": {},
   "outputs": [],
   "source": [
    "_path_created = {}\n"
   ]
  },
  {
   "cell_type": "code",
   "execution_count": 4,
   "id": "2a54afdd",
   "metadata": {},
   "outputs": [],
   "source": [
    "def _build_cmdtuple(path, cmdtuples):\n",
    "    \"\"\"Helper for remove_tree().\"\"\"\n",
    "    for f in os.listdir(path):\n",
    "        real_f = os.path.join(path,f)\n",
    "        if os.path.isdir(real_f) and not os.path.islink(real_f):\n",
    "            _build_cmdtuple(real_f, cmdtuples)\n",
    "        else:\n",
    "            cmdtuples.append((os.remove, real_f))\n",
    "    cmdtuples.append((os.rmdir, path))"
   ]
  },
  {
   "cell_type": "code",
   "execution_count": 2,
   "id": "27321626",
   "metadata": {},
   "outputs": [],
   "source": [
    "def remove_tree(directory, verbose=1, dry_run=0):\n",
    "    \"\"\"Recursively remove an entire directory tree.\n",
    "\n",
    "    Any errors are ignored (apart from being reported to stdout if 'verbose'\n",
    "    is true).\n",
    "    \"\"\"\n",
    "    global _path_created\n",
    "\n",
    "    if verbose >= 1:\n",
    "        log.info(\"removing '%s' (and everything under it)\", directory)\n",
    "    if dry_run:\n",
    "        return\n",
    "    cmdtuples = []\n",
    "    _build_cmdtuple(directory, cmdtuples)\n",
    "    for cmd in cmdtuples:\n",
    "        try:\n",
    "            cmd[0](cmd[1])\n",
    "            # remove dir from cache if it's already there\n",
    "            abspath = os.path.abspath(cmd[1])\n",
    "            if abspath in _path_created:\n",
    "                del _path_created[abspath]\n",
    "        except OSError as exc:\n",
    "            log.warn(\"error removing %s: %s\", directory, exc)"
   ]
  },
  {
   "cell_type": "code",
   "execution_count": 9,
   "id": "d4fa0c97",
   "metadata": {},
   "outputs": [],
   "source": [
    "remove_tree('nbdev_steve-1.2.11')"
   ]
  }
 ],
 "metadata": {
  "kernelspec": {
   "display_name": "Python 3",
   "language": "python",
   "name": "python3"
  },
  "language_info": {
   "codemirror_mode": {
    "name": "ipython",
    "version": 3
   },
   "file_extension": ".py",
   "mimetype": "text/x-python",
   "name": "python",
   "nbconvert_exporter": "python",
   "pygments_lexer": "ipython3",
   "version": "3.8.5"
  }
 },
 "nbformat": 4,
 "nbformat_minor": 5
}
